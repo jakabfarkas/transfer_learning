{
  "nbformat": 4,
  "nbformat_minor": 0,
  "metadata": {
    "accelerator": "GPU",
    "colab": {
      "name": "4_kis_hf.ipynb",
      "provenance": [],
      "collapsed_sections": []
    },
    "kernelspec": {
      "display_name": "Python 3",
      "name": "python3"
    }
  },
  "cells": [
    {
      "cell_type": "code",
      "metadata": {
        "id": "8dV6qgdT7Q4u",
        "outputId": "7d2f66be-f68a-458a-97fc-22e08c257ebd",
        "colab": {
          "base_uri": "https://localhost:8080/"
        }
      },
      "source": [
        "pip install openimages # install the openimages library"
      ],
      "execution_count": 1,
      "outputs": [
        {
          "output_type": "stream",
          "text": [
            "Collecting openimages\n",
            "  Downloading https://files.pythonhosted.org/packages/49/ba/587944c183999aa9a0416d6979739b78adfe021eee74aa9db78f0beaea06/openimages-0.0.1-py2.py3-none-any.whl\n",
            "Requirement already satisfied: tqdm in /usr/local/lib/python3.6/dist-packages (from openimages) (4.41.1)\n",
            "Collecting cvdata\n",
            "\u001b[?25l  Downloading https://files.pythonhosted.org/packages/47/e5/5361375b284ac1da759cf78329f8484cb33c039c4c91e38862ca4cba2ae6/cvdata-0.0.7-py2.py3-none-any.whl (49kB)\n",
            "\r\u001b[K     |██████▋                         | 10kB 23.2MB/s eta 0:00:01\r\u001b[K     |█████████████▎                  | 20kB 29.8MB/s eta 0:00:01\r\u001b[K     |████████████████████            | 30kB 32.7MB/s eta 0:00:01\r\u001b[K     |██████████████████████████▋     | 40kB 35.1MB/s eta 0:00:01\r\u001b[K     |████████████████████████████████| 51kB 5.2MB/s \n",
            "\u001b[?25hRequirement already satisfied: lxml in /usr/local/lib/python3.6/dist-packages (from openimages) (4.2.6)\n",
            "Requirement already satisfied: pandas in /usr/local/lib/python3.6/dist-packages (from openimages) (1.1.4)\n",
            "Collecting boto3\n",
            "\u001b[?25l  Downloading https://files.pythonhosted.org/packages/b2/f7/a0f1e13222e10d426afbc50fc7de3c65acafa6ff4cc790e71e649d4cd9ad/boto3-1.16.15-py2.py3-none-any.whl (129kB)\n",
            "\u001b[K     |████████████████████████████████| 133kB 27.5MB/s \n",
            "\u001b[?25hRequirement already satisfied: requests in /usr/local/lib/python3.6/dist-packages (from openimages) (2.23.0)\n",
            "Collecting tensorflow-cpu>=2.1\n",
            "\u001b[?25l  Downloading https://files.pythonhosted.org/packages/b7/1a/0dff6c8421f84b2f104adf48c8ad8b9ae5a693417868abacfab9f133c122/tensorflow_cpu-2.3.1-cp36-cp36m-manylinux2010_x86_64.whl (137.3MB)\n",
            "\u001b[K     |████████████████████████████████| 137.3MB 88kB/s \n",
            "\u001b[?25hCollecting ImageHash\n",
            "\u001b[?25l  Downloading https://files.pythonhosted.org/packages/1a/5d/cc81830be3c4705a46cdbca74439b67f1017881383ba0127c41c4cecb7b3/ImageHash-4.1.0.tar.gz (291kB)\n",
            "\u001b[K     |████████████████████████████████| 296kB 30.0MB/s \n",
            "\u001b[?25hRequirement already satisfied: contextlib2 in /usr/local/lib/python3.6/dist-packages (from cvdata->openimages) (0.5.5)\n",
            "Requirement already satisfied: pillow in /usr/local/lib/python3.6/dist-packages (from cvdata->openimages) (7.0.0)\n",
            "Requirement already satisfied: opencv-python in /usr/local/lib/python3.6/dist-packages (from cvdata->openimages) (4.1.2.30)\n",
            "Requirement already satisfied: numpy>=1.15.4 in /usr/local/lib/python3.6/dist-packages (from pandas->openimages) (1.18.5)\n",
            "Requirement already satisfied: pytz>=2017.2 in /usr/local/lib/python3.6/dist-packages (from pandas->openimages) (2018.9)\n",
            "Requirement already satisfied: python-dateutil>=2.7.3 in /usr/local/lib/python3.6/dist-packages (from pandas->openimages) (2.8.1)\n",
            "Collecting jmespath<1.0.0,>=0.7.1\n",
            "  Downloading https://files.pythonhosted.org/packages/07/cb/5f001272b6faeb23c1c9e0acc04d48eaaf5c862c17709d20e3469c6e0139/jmespath-0.10.0-py2.py3-none-any.whl\n",
            "Collecting s3transfer<0.4.0,>=0.3.0\n",
            "\u001b[?25l  Downloading https://files.pythonhosted.org/packages/69/79/e6afb3d8b0b4e96cefbdc690f741d7dd24547ff1f94240c997a26fa908d3/s3transfer-0.3.3-py2.py3-none-any.whl (69kB)\n",
            "\u001b[K     |████████████████████████████████| 71kB 12.0MB/s \n",
            "\u001b[?25hCollecting botocore<1.20.0,>=1.19.15\n",
            "\u001b[?25l  Downloading https://files.pythonhosted.org/packages/f4/1d/bed1bb297abadc387d8328d88ac7612daa2d9f716bd83ec096ceb4a9f8bb/botocore-1.19.15-py2.py3-none-any.whl (6.7MB)\n",
            "\u001b[K     |████████████████████████████████| 6.7MB 54.7MB/s \n",
            "\u001b[?25hRequirement already satisfied: certifi>=2017.4.17 in /usr/local/lib/python3.6/dist-packages (from requests->openimages) (2020.6.20)\n",
            "Requirement already satisfied: chardet<4,>=3.0.2 in /usr/local/lib/python3.6/dist-packages (from requests->openimages) (3.0.4)\n",
            "Requirement already satisfied: urllib3!=1.25.0,!=1.25.1,<1.26,>=1.21.1 in /usr/local/lib/python3.6/dist-packages (from requests->openimages) (1.24.3)\n",
            "Requirement already satisfied: idna<3,>=2.5 in /usr/local/lib/python3.6/dist-packages (from requests->openimages) (2.10)\n",
            "Requirement already satisfied: grpcio>=1.8.6 in /usr/local/lib/python3.6/dist-packages (from tensorflow-cpu>=2.1->cvdata->openimages) (1.33.2)\n",
            "Requirement already satisfied: wheel>=0.26 in /usr/local/lib/python3.6/dist-packages (from tensorflow-cpu>=2.1->cvdata->openimages) (0.35.1)\n",
            "Requirement already satisfied: protobuf>=3.9.2 in /usr/local/lib/python3.6/dist-packages (from tensorflow-cpu>=2.1->cvdata->openimages) (3.12.4)\n",
            "Requirement already satisfied: google-pasta>=0.1.8 in /usr/local/lib/python3.6/dist-packages (from tensorflow-cpu>=2.1->cvdata->openimages) (0.2.0)\n",
            "Requirement already satisfied: keras-preprocessing<1.2,>=1.1.1 in /usr/local/lib/python3.6/dist-packages (from tensorflow-cpu>=2.1->cvdata->openimages) (1.1.2)\n",
            "Requirement already satisfied: astunparse==1.6.3 in /usr/local/lib/python3.6/dist-packages (from tensorflow-cpu>=2.1->cvdata->openimages) (1.6.3)\n",
            "Requirement already satisfied: h5py<2.11.0,>=2.10.0 in /usr/local/lib/python3.6/dist-packages (from tensorflow-cpu>=2.1->cvdata->openimages) (2.10.0)\n",
            "Requirement already satisfied: gast==0.3.3 in /usr/local/lib/python3.6/dist-packages (from tensorflow-cpu>=2.1->cvdata->openimages) (0.3.3)\n",
            "Requirement already satisfied: six>=1.12.0 in /usr/local/lib/python3.6/dist-packages (from tensorflow-cpu>=2.1->cvdata->openimages) (1.15.0)\n",
            "Requirement already satisfied: tensorflow-estimator<2.4.0,>=2.3.0 in /usr/local/lib/python3.6/dist-packages (from tensorflow-cpu>=2.1->cvdata->openimages) (2.3.0)\n",
            "Requirement already satisfied: absl-py>=0.7.0 in /usr/local/lib/python3.6/dist-packages (from tensorflow-cpu>=2.1->cvdata->openimages) (0.10.0)\n",
            "Requirement already satisfied: tensorboard<3,>=2.3.0 in /usr/local/lib/python3.6/dist-packages (from tensorflow-cpu>=2.1->cvdata->openimages) (2.3.0)\n",
            "Requirement already satisfied: wrapt>=1.11.1 in /usr/local/lib/python3.6/dist-packages (from tensorflow-cpu>=2.1->cvdata->openimages) (1.12.1)\n",
            "Requirement already satisfied: opt-einsum>=2.3.2 in /usr/local/lib/python3.6/dist-packages (from tensorflow-cpu>=2.1->cvdata->openimages) (3.3.0)\n",
            "Requirement already satisfied: termcolor>=1.1.0 in /usr/local/lib/python3.6/dist-packages (from tensorflow-cpu>=2.1->cvdata->openimages) (1.1.0)\n",
            "Requirement already satisfied: scipy in /usr/local/lib/python3.6/dist-packages (from ImageHash->cvdata->openimages) (1.4.1)\n",
            "Requirement already satisfied: PyWavelets in /usr/local/lib/python3.6/dist-packages (from ImageHash->cvdata->openimages) (1.1.1)\n",
            "Requirement already satisfied: setuptools in /usr/local/lib/python3.6/dist-packages (from protobuf>=3.9.2->tensorflow-cpu>=2.1->cvdata->openimages) (50.3.2)\n",
            "Requirement already satisfied: google-auth<2,>=1.6.3 in /usr/local/lib/python3.6/dist-packages (from tensorboard<3,>=2.3.0->tensorflow-cpu>=2.1->cvdata->openimages) (1.17.2)\n",
            "Requirement already satisfied: werkzeug>=0.11.15 in /usr/local/lib/python3.6/dist-packages (from tensorboard<3,>=2.3.0->tensorflow-cpu>=2.1->cvdata->openimages) (1.0.1)\n",
            "Requirement already satisfied: markdown>=2.6.8 in /usr/local/lib/python3.6/dist-packages (from tensorboard<3,>=2.3.0->tensorflow-cpu>=2.1->cvdata->openimages) (3.3.3)\n",
            "Requirement already satisfied: google-auth-oauthlib<0.5,>=0.4.1 in /usr/local/lib/python3.6/dist-packages (from tensorboard<3,>=2.3.0->tensorflow-cpu>=2.1->cvdata->openimages) (0.4.2)\n",
            "Requirement already satisfied: tensorboard-plugin-wit>=1.6.0 in /usr/local/lib/python3.6/dist-packages (from tensorboard<3,>=2.3.0->tensorflow-cpu>=2.1->cvdata->openimages) (1.7.0)\n",
            "Requirement already satisfied: rsa<5,>=3.1.4; python_version >= \"3\" in /usr/local/lib/python3.6/dist-packages (from google-auth<2,>=1.6.3->tensorboard<3,>=2.3.0->tensorflow-cpu>=2.1->cvdata->openimages) (4.6)\n",
            "Requirement already satisfied: cachetools<5.0,>=2.0.0 in /usr/local/lib/python3.6/dist-packages (from google-auth<2,>=1.6.3->tensorboard<3,>=2.3.0->tensorflow-cpu>=2.1->cvdata->openimages) (4.1.1)\n",
            "Requirement already satisfied: pyasn1-modules>=0.2.1 in /usr/local/lib/python3.6/dist-packages (from google-auth<2,>=1.6.3->tensorboard<3,>=2.3.0->tensorflow-cpu>=2.1->cvdata->openimages) (0.2.8)\n",
            "Requirement already satisfied: importlib-metadata; python_version < \"3.8\" in /usr/local/lib/python3.6/dist-packages (from markdown>=2.6.8->tensorboard<3,>=2.3.0->tensorflow-cpu>=2.1->cvdata->openimages) (2.0.0)\n",
            "Requirement already satisfied: requests-oauthlib>=0.7.0 in /usr/local/lib/python3.6/dist-packages (from google-auth-oauthlib<0.5,>=0.4.1->tensorboard<3,>=2.3.0->tensorflow-cpu>=2.1->cvdata->openimages) (1.3.0)\n",
            "Requirement already satisfied: pyasn1>=0.1.3 in /usr/local/lib/python3.6/dist-packages (from rsa<5,>=3.1.4; python_version >= \"3\"->google-auth<2,>=1.6.3->tensorboard<3,>=2.3.0->tensorflow-cpu>=2.1->cvdata->openimages) (0.4.8)\n",
            "Requirement already satisfied: zipp>=0.5 in /usr/local/lib/python3.6/dist-packages (from importlib-metadata; python_version < \"3.8\"->markdown>=2.6.8->tensorboard<3,>=2.3.0->tensorflow-cpu>=2.1->cvdata->openimages) (3.4.0)\n",
            "Requirement already satisfied: oauthlib>=3.0.0 in /usr/local/lib/python3.6/dist-packages (from requests-oauthlib>=0.7.0->google-auth-oauthlib<0.5,>=0.4.1->tensorboard<3,>=2.3.0->tensorflow-cpu>=2.1->cvdata->openimages) (3.1.0)\n",
            "Building wheels for collected packages: ImageHash\n",
            "  Building wheel for ImageHash (setup.py) ... \u001b[?25l\u001b[?25hdone\n",
            "  Created wheel for ImageHash: filename=ImageHash-4.1.0-py2.py3-none-any.whl size=291991 sha256=4a13f5a6a7c36787e115f01748bf3cfac0e21614b176b45f3a635643160145c9\n",
            "  Stored in directory: /root/.cache/pip/wheels/07/1c/dc/6831446f09feb8cc199ec73a0f2f0703253f6ae013a22f4be9\n",
            "Successfully built ImageHash\n",
            "\u001b[31mERROR: botocore 1.19.15 has requirement urllib3<1.26,>=1.25.4; python_version != \"3.4\", but you'll have urllib3 1.24.3 which is incompatible.\u001b[0m\n",
            "Installing collected packages: tensorflow-cpu, ImageHash, cvdata, jmespath, botocore, s3transfer, boto3, openimages\n",
            "Successfully installed ImageHash-4.1.0 boto3-1.16.15 botocore-1.19.15 cvdata-0.0.7 jmespath-0.10.0 openimages-0.0.1 s3transfer-0.3.3 tensorflow-cpu-2.3.1\n"
          ],
          "name": "stdout"
        }
      ]
    },
    {
      "cell_type": "code",
      "metadata": {
        "id": "q_K2iwxA73qI"
      },
      "source": [
        "# import the libraries for the project\n",
        "import os\n",
        "from openimages.download import download_dataset\n",
        "from sklearn.model_selection import train_test_split\n",
        "from tensorflow.keras.models import Model\n",
        "from tensorflow.keras.preprocessing.image import ImageDataGenerator\n",
        "from tensorflow.keras.applications.inception_v3 import InceptionV3,preprocess_input,decode_predictions\n",
        "from tensorflow.keras.preprocessing import image\n",
        "from tensorflow.keras.optimizers import SGD\n",
        "from tensorflow.keras.layers import Dense, GlobalAveragePooling2D\n",
        "from tensorflow.keras import backend as K\n",
        "from keras.callbacks import ModelCheckpoint\n",
        "from keras.models import load_model\n",
        "from sklearn.metrics import confusion_matrix\n",
        "from sklearn.utils import shuffle\n",
        "import seaborn\n",
        "import numpy as np\n",
        "import shutil"
      ],
      "execution_count": 2,
      "outputs": []
    },
    {
      "cell_type": "code",
      "metadata": {
        "id": "gwYeIfrF8FBQ",
        "outputId": "f1a1dc13-e45a-4ffa-bbb5-6225d8598245",
        "colab": {
          "base_uri": "https://localhost:8080/"
        }
      },
      "source": [
        "image_cnt = 600 # number of images from each category\n",
        "download_dataset('/tmp/images', ['Bird', 'Boot','Sunglasses'], annotation_format='pascal', limit=image_cnt) # download the images into the /tmp/images forder"
      ],
      "execution_count": 3,
      "outputs": [
        {
          "output_type": "stream",
          "text": [
            "2020-11-11  20:27:32 INFO NumExpr defaulting to 2 threads.\n",
            "2020-11-11  20:27:34 INFO Downloading 600 train images for class 'bird'\n",
            "100%|██████████| 600/600 [00:05<00:00, 101.02it/s]\n",
            "2020-11-11  20:27:41 INFO Creating 600 train annotations (pascal) for class 'bird'\n",
            "100%|██████████| 600/600 [00:00<00:00, 1858.09it/s]\n",
            "2020-11-11  20:27:42 INFO Downloading 600 train images for class 'boot'\n",
            "100%|██████████| 600/600 [00:06<00:00, 86.16it/s]\n",
            "2020-11-11  20:27:49 INFO Creating 600 train annotations (pascal) for class 'boot'\n",
            "100%|██████████| 600/600 [00:00<00:00, 2461.88it/s]\n",
            "2020-11-11  20:27:50 INFO Downloading 600 train images for class 'sunglasses'\n",
            "100%|██████████| 600/600 [00:06<00:00, 92.66it/s]\n",
            "2020-11-11  20:27:56 INFO Creating 600 train annotations (pascal) for class 'sunglasses'\n",
            "100%|██████████| 600/600 [00:00<00:00, 2692.90it/s]\n"
          ],
          "name": "stderr"
        },
        {
          "output_type": "execute_result",
          "data": {
            "text/plain": [
              "{'bird': {'annotations_dir': '/tmp/images/bird/pascal',\n",
              "  'images_dir': '/tmp/images/bird/images'},\n",
              " 'boot': {'annotations_dir': '/tmp/images/boot/pascal',\n",
              "  'images_dir': '/tmp/images/boot/images'},\n",
              " 'sunglasses': {'annotations_dir': '/tmp/images/sunglasses/pascal',\n",
              "  'images_dir': '/tmp/images/sunglasses/images'}}"
            ]
          },
          "metadata": {
            "tags": []
          },
          "execution_count": 3
        }
      ]
    },
    {
      "cell_type": "code",
      "metadata": {
        "id": "hN5Bm_y5AIVy"
      },
      "source": [
        "# directory names of the downloaded images\n",
        "base_dir = '/tmp/images'\n",
        "bird_dir = os.path.join(base_dir, 'bird/images')\n",
        "boot_dir = os.path.join(base_dir, 'boot/images')\n",
        "sunglasses_dir = os.path.join(base_dir, 'sunglasses/images')\n",
        "\n",
        "# lis the file names of the downloaded images and concatenate them to the directory they are in\n",
        "bird_fnames = os.listdir(bird_dir)\n",
        "boot_fnames = os.listdir(boot_dir)\n",
        "sunglasses_fnames = os.listdir(sunglasses_dir)\n",
        "for i in range(image_cnt):\n",
        "  bird_fnames[i] = os.path.join(bird_dir, bird_fnames[i])\n",
        "  boot_fnames[i] = os.path.join(boot_dir, boot_fnames[i])\n",
        "  sunglasses_fnames[i] = os.path.join(sunglasses_dir, sunglasses_fnames[i])\n",
        "\n",
        "# split the image file name array to train, validation and test arrays\n",
        "bird_train, bird_2 = train_test_split(bird_fnames, test_size=1/3, shuffle=True)\n",
        "bird_valid, bird_test = train_test_split(bird_2, test_size=1/2, shuffle=True)\n",
        "boot_train, boot_2 = train_test_split(boot_fnames, test_size=1/3, shuffle=True)\n",
        "boot_valid, boot_test = train_test_split(boot_2, test_size=1/2, shuffle=True)\n",
        "sunglasses_train, sunglasses_2 = train_test_split(sunglasses_fnames, test_size=1/3, shuffle=True)\n",
        "sunglasses_valid, sunglasses_test = train_test_split(sunglasses_2, test_size=1/2, shuffle=True)\n",
        "\n",
        "# directories for the train, validation and test data\n",
        "train_dir = '/tmp/train'\n",
        "valid_dir = '/tmp/valid'\n",
        "test_dir = '/tmp/test'\n",
        "\n",
        "# create the folders for the train, validation and test data and copy the images to the appropriate folder\n",
        "try:\n",
        "  os.mkdir(train_dir)\n",
        "  os.mkdir(os.path.join(train_dir, 'bird'))\n",
        "  os.mkdir(os.path.join(train_dir, 'boot'))\n",
        "  os.mkdir(os.path.join(train_dir, 'sunglasses'))\n",
        "except:\n",
        "  print(\"Train folder already exists.\")\n",
        "for i in bird_train:\n",
        "  shutil.copy(i, os.path.join(train_dir, 'bird'))\n",
        "for i in boot_train:\n",
        "  shutil.copy(i, os.path.join(train_dir, 'boot'))\n",
        "for i in sunglasses_train:\n",
        "  shutil.copy(i, os.path.join(train_dir, 'sunglasses'))\n",
        "\n",
        "try:\n",
        "  os.mkdir(valid_dir)\n",
        "  os.mkdir(os.path.join(valid_dir, 'bird'))\n",
        "  os.mkdir(os.path.join(valid_dir, 'boot'))\n",
        "  os.mkdir(os.path.join(valid_dir, 'sunglasses'))\n",
        "except:\n",
        "  print(\"Validation folder already exists.\")\n",
        "for i in bird_valid:\n",
        "  shutil.copy(i, os.path.join(valid_dir, 'bird'))\n",
        "for i in boot_valid:\n",
        "  shutil.copy(i, os.path.join(valid_dir, 'boot'))\n",
        "for i in sunglasses_valid:\n",
        "  shutil.copy(i, os.path.join(valid_dir, 'sunglasses'))\n",
        "\n",
        "try:\n",
        "  os.mkdir(test_dir)\n",
        "  os.mkdir(os.path.join(test_dir, 'bird'))\n",
        "  os.mkdir(os.path.join(test_dir, 'boot'))\n",
        "  os.mkdir(os.path.join(test_dir, 'sunglasses'))\n",
        "except:\n",
        "  print(\"Test folder already exists.\")\n",
        "for i in bird_test:\n",
        "  shutil.copy(i, os.path.join(test_dir, 'bird'))\n",
        "for i in boot_test:\n",
        "  shutil.copy(i, os.path.join(test_dir, 'boot'))\n",
        "for i in sunglasses_test:\n",
        "  shutil.copy(i, os.path.join(test_dir, 'sunglasses'))"
      ],
      "execution_count": 4,
      "outputs": []
    },
    {
      "cell_type": "code",
      "metadata": {
        "id": "Nkfq67BZFc5l"
      },
      "source": [
        "# input image size of the downloaded model\n",
        "img_height=299\n",
        "img_width=299\n",
        "\n",
        "base_model = InceptionV3(weights='imagenet', include_top=False) # download the inception_v3 model without the top layer\n",
        "x = base_model.output\n",
        "x = GlobalAveragePooling2D()(x) # to flatten the 2D convolution\n",
        "x = Dense(2048, activation='relu')(x) # new layer of 2048 neurons with relu activation\n",
        "predictions = Dense(3, activation='softmax')(x) # the output layer consists of 3 neurons for each category\n",
        "model = Model(inputs=base_model.input, outputs=predictions) # create our model"
      ],
      "execution_count": null,
      "outputs": []
    },
    {
      "cell_type": "code",
      "metadata": {
        "id": "gwKN83j1ggcR"
      },
      "source": [
        "# make all layers in the downloaded model untrainable\n",
        "for layer in base_model.layers:\n",
        "    layer.trainable = False\n",
        "\n",
        "model.compile(optimizer='adam', metrics=['accuracy'], loss='categorical_crossentropy') # compile our model with the appropriate parameters"
      ],
      "execution_count": null,
      "outputs": []
    },
    {
      "cell_type": "code",
      "metadata": {
        "id": "6OQlj93YKJb2",
        "outputId": "6add3ca9-01e7-48b5-e80f-ef5f3105b846",
        "colab": {
          "base_uri": "https://localhost:8080/"
        }
      },
      "source": [
        "# function to enrich the downloaded data to train our model\n",
        "train_datagen = ImageDataGenerator(rescale=1./255, shear_range=0.2, zoom_range=0.2, horizontal_flip=True)\n",
        "valid_datagen = ImageDataGenerator(rescale=1./255)\n",
        "# data generators to train our model\n",
        "train_generator = train_datagen.flow_from_directory(train_dir, target_size=(img_height, img_width), batch_size=20, class_mode='categorical', shuffle=True)\n",
        "valid_generator = valid_datagen.flow_from_directory(valid_dir, target_size=(img_height, img_width), batch_size=20, class_mode='categorical', shuffle=True)"
      ],
      "execution_count": null,
      "outputs": [
        {
          "output_type": "stream",
          "text": [
            "Found 1200 images belonging to 3 classes.\n",
            "Found 300 images belonging to 3 classes.\n"
          ],
          "name": "stdout"
        }
      ]
    },
    {
      "cell_type": "code",
      "metadata": {
        "id": "UgXT7eVtQk72",
        "outputId": "602d3988-f141-4fe4-afd7-45b3322e732f",
        "colab": {
          "base_uri": "https://localhost:8080/"
        }
      },
      "source": [
        "checkpoint1 = ModelCheckpoint(filepath='/tmp/model1.h5', save_best_only=True, verbose=0) # save the trained model into a file, since training can be time consuming\n",
        "model.fit_generator(train_generator, steps_per_epoch=60, validation_data=valid_generator, validation_steps=10, epochs=3, callbacks=[checkpoint1]) # train our model"
      ],
      "execution_count": null,
      "outputs": [
        {
          "output_type": "stream",
          "text": [
            "Epoch 1/3\n",
            "60/60 [==============================] - 245s 4s/step - loss: 1.0613 - accuracy: 0.7883 - val_loss: 0.1805 - val_accuracy: 0.9350\n",
            "Epoch 2/3\n",
            "60/60 [==============================] - 243s 4s/step - loss: 0.1401 - accuracy: 0.9567 - val_loss: 0.1915 - val_accuracy: 0.9400\n",
            "Epoch 3/3\n",
            "60/60 [==============================] - 243s 4s/step - loss: 0.1800 - accuracy: 0.9367 - val_loss: 0.1656 - val_accuracy: 0.9400\n"
          ],
          "name": "stdout"
        },
        {
          "output_type": "execute_result",
          "data": {
            "text/plain": [
              "<tensorflow.python.keras.callbacks.History at 0x7f6e35106048>"
            ]
          },
          "metadata": {
            "tags": []
          },
          "execution_count": 47
        }
      ]
    },
    {
      "cell_type": "code",
      "metadata": {
        "id": "DKB0pP_8wgt5"
      },
      "source": [
        "test_fnames = bird_test + boot_test + sunglasses_test # test file names (concatenated to the directory they are in) into one array\n",
        "test_input = []\n",
        "# load and preprocess each test image and put them into one array which will be the input of the model during testing\n",
        "for i in test_fnames:\n",
        "  img = image.load_img(i, target_size=(299, 299))\n",
        "  x = image.img_to_array(img)\n",
        "  x = preprocess_input(x)\n",
        "  test_input.append(x)\n",
        "test_input = np.asarray(test_input) # the created test input array as numpy array\n",
        "# create the test output array\n",
        "test_output = np.full(shape=(100), fill_value=0)\n",
        "test_output = np.concatenate((test_output, np.full(shape=(100), fill_value=1)), axis=0)\n",
        "test_output = np.concatenate((test_output, np.full(shape=(100), fill_value=2)), axis=0)\n",
        "test_input, test_output = shuffle(test_input, test_output) # shuffle the testing input and output array the same way"
      ],
      "execution_count": null,
      "outputs": []
    },
    {
      "cell_type": "code",
      "metadata": {
        "id": "i1HCfgL9DiXy",
        "outputId": "b97bfa6f-db53-4fe9-e845-748c9c11b452",
        "colab": {
          "base_uri": "https://localhost:8080/",
          "height": 286
        }
      },
      "source": [
        "model = load_model('/tmp/model1.h5') # load our trained model from the file\n",
        "predict = model.predict(test_input) # predict the output for all test images\n",
        "conf_matrix = confusion_matrix(test_output, np.argmax(predict, axis=1)) # create a confusion matrix from the model output and the correct solution of the test database\n",
        "seaborn.heatmap(conf_matrix, annot=True) # show the results on a heatmap"
      ],
      "execution_count": null,
      "outputs": [
        {
          "output_type": "execute_result",
          "data": {
            "text/plain": [
              "<matplotlib.axes._subplots.AxesSubplot at 0x7f6e32ff0518>"
            ]
          },
          "metadata": {
            "tags": []
          },
          "execution_count": 49
        },
        {
          "output_type": "display_data",
          "data": {
            "image/png": "[encoded data removed]",
            "text/plain": [
              "<Figure size 432x288 with 2 Axes>"
            ]
          },
          "metadata": {
            "tags": []
          }
        }
      ]
    },
    {
      "cell_type": "code",
      "metadata": {
        "id": "jnV3oaKIyIvD"
      },
      "source": [
        "# make the layers from the 172. layer trainable\n",
        "for layer in model.layers[172:]:\n",
        "       layer.trainable = True\n",
        "\n",
        "model.compile(optimizer=SGD(lr=0.0001, momentum=0.9), metrics=['accuracy'], loss='categorical_crossentropy') # compile our model with the appropriate parameters"
      ],
      "execution_count": null,
      "outputs": []
    },
    {
      "cell_type": "code",
      "metadata": {
        "id": "E_UDzmyfyY_a",
        "outputId": "2974716e-a9cb-4aa0-dfe8-ca5ba3ddd065",
        "colab": {
          "background_save": true,
          "base_uri": "https://localhost:8080/"
        }
      },
      "source": [
        "checkpoint2 = ModelCheckpoint(filepath='/tmp/model2.h5', save_best_only=True, verbose=0) # save the trained model into a file, since training can be time consuming\n",
        "model.fit_generator(train_generator,steps_per_epoch=60, validation_data=valid_generator, validation_steps=10, epochs=3, callbacks=[checkpoint2]) # train our model"
      ],
      "execution_count": null,
      "outputs": [
        {
          "output_type": "stream",
          "text": [
            "Epoch 1/3\n",
            "60/60 [==============================] - 416s 7s/step - loss: 0.2527 - accuracy: 0.9125 - val_loss: 0.1466 - val_accuracy: 0.9550\n",
            "Epoch 2/3\n",
            "60/60 [==============================] - 416s 7s/step - loss: 0.1782 - accuracy: 0.9458 - val_loss: 0.1483 - val_accuracy: 0.9400\n",
            "Epoch 3/3\n",
            "60/60 [==============================] - 416s 7s/step - loss: 0.1314 - accuracy: 0.9567 - val_loss: 0.1384 - val_accuracy: 0.9450\n"
          ],
          "name": "stdout"
        },
        {
          "output_type": "execute_result",
          "data": {
            "text/plain": [
              "<tensorflow.python.keras.callbacks.History at 0x7f6e32dd1d68>"
            ]
          },
          "metadata": {
            "tags": []
          },
          "execution_count": 0
        }
      ]
    },
    {
      "cell_type": "code",
      "metadata": {
        "id": "xmIOj8TmJtYd",
        "outputId": "205d1186-1523-4b52-c148-a4da01e590b5",
        "colab": {
          "base_uri": "https://localhost:8080/",
          "height": 282
        }
      },
      "source": [
        "model = load_model('/tmp/model2.h5') # load our trained model from the file\n",
        "predict = model.predict(test_input) # predict the output for all test images\n",
        "conf_matrix = confusion_matrix(test_output, np.argmax(predict, axis=1)) # create a confusion matrix from the model output and the correct solution of the test database\n",
        "seaborn.heatmap(conf_matrix, annot=True) # show the results on a heatmap"
      ],
      "execution_count": null,
      "outputs": [
        {
          "output_type": "execute_result",
          "data": {
            "text/plain": [
              "<matplotlib.axes._subplots.AxesSubplot at 0x7f6e19074898>"
            ]
          },
          "metadata": {
            "tags": []
          },
          "execution_count": 53
        },
        {
          "output_type": "display_data",
          "data": {
            "image/png": "[encoded data removed]",
            "text/plain": [
              "<Figure size 432x288 with 2 Axes>"
            ]
          },
          "metadata": {
            "tags": [],
            "needs_background": "light"
          }
        }
      ]
    }
  ]
}